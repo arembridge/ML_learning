{
 "cells": [
  {
   "cell_type": "markdown",
   "metadata": {},
   "source": [
    "Create a list called 'example' containing the following numbers:\n",
    "    \n",
    "5, 15, 35, 100, 20, 35"
   ]
  },
  {
   "cell_type": "code",
   "execution_count": null,
   "metadata": {},
   "outputs": [],
   "source": []
  },
  {
   "cell_type": "markdown",
   "metadata": {},
   "source": [
    "Using a 'for' loop, create another list called 'example2' that contains the same numbers multiplied by two:"
   ]
  },
  {
   "cell_type": "code",
   "execution_count": null,
   "metadata": {},
   "outputs": [],
   "source": []
  },
  {
   "cell_type": "markdown",
   "metadata": {},
   "source": [
    "Using a list comprehension, create a list called 'example3' that contains the numbers in 'example' squared:"
   ]
  },
  {
   "cell_type": "code",
   "execution_count": null,
   "metadata": {},
   "outputs": [],
   "source": []
  },
  {
   "cell_type": "markdown",
   "metadata": {},
   "source": [
    "Convert the elements in the list 'things' below using a for loop and the dictionary 'zoo_map'.  Save the results in a list called 'numbers_list'. "
   ]
  },
  {
   "cell_type": "code",
   "execution_count": null,
   "metadata": {},
   "outputs": [],
   "source": [
    "things = ['cat','cat','dog','frog','log']"
   ]
  },
  {
   "cell_type": "code",
   "execution_count": null,
   "metadata": {
    "ExecuteTime": {
     "end_time": "2018-09-24T21:16:07.778708Z",
     "start_time": "2018-09-24T21:16:07.775221Z"
    }
   },
   "outputs": [],
   "source": [
    "zoo_map = {'cat': 0,\n",
    "           'dog': 1,\n",
    "           'frog': 2,\n",
    "           'log': 3}"
   ]
  },
  {
   "cell_type": "code",
   "execution_count": null,
   "metadata": {},
   "outputs": [],
   "source": []
  },
  {
   "cell_type": "markdown",
   "metadata": {},
   "source": [
    "Use a list comprehension to convert 'words' into a new list called 'words_plus' where each string has the string ' text' added onto the end."
   ]
  },
  {
   "cell_type": "code",
   "execution_count": null,
   "metadata": {
    "ExecuteTime": {
     "end_time": "2018-09-24T21:19:42.687643Z",
     "start_time": "2018-09-24T21:19:42.685387Z"
    }
   },
   "outputs": [],
   "source": [
    "words = ['this', 'is', 'a', 'test']"
   ]
  },
  {
   "cell_type": "code",
   "execution_count": null,
   "metadata": {},
   "outputs": [],
   "source": [
    "words_plus = "
   ]
  },
  {
   "cell_type": "markdown",
   "metadata": {},
   "source": [
    "Create the dataframe below. "
   ]
  },
  {
   "cell_type": "code",
   "execution_count": null,
   "metadata": {
    "ExecuteTime": {
     "end_time": "2018-10-12T10:19:37.928464Z",
     "start_time": "2018-10-12T10:19:35.306579Z"
    }
   },
   "outputs": [],
   "source": [
    "import pandas as pd"
   ]
  },
  {
   "cell_type": "code",
   "execution_count": null,
   "metadata": {
    "ExecuteTime": {
     "end_time": "2018-10-12T10:22:32.830106Z",
     "start_time": "2018-10-12T10:22:32.825878Z"
    }
   },
   "outputs": [],
   "source": [
    "df = pd.DataFrame({'weight (kg)': [50, 60, 75, 80, 40, 90, 85, 100, None, 74, 51], \n",
    "                   'height (cm)': [150, 140, None, 170, 180, 175, 180, 183, 178, 210, 175]})"
   ]
  },
  {
   "cell_type": "markdown",
   "metadata": {},
   "source": [
    "Drop all rows that have null values using the .dropna() function"
   ]
  },
  {
   "cell_type": "code",
   "execution_count": null,
   "metadata": {},
   "outputs": [],
   "source": [
    "__________________"
   ]
  },
  {
   "cell_type": "markdown",
   "metadata": {
    "ExecuteTime": {
     "end_time": "2018-09-24T21:29:24.654785Z",
     "start_time": "2018-09-24T21:29:24.638635Z"
    }
   },
   "source": [
    "Create a new column in the datamframe called 'height (m)' which is the same as 'height (cm)' divided by 100.  Try referring to the 'cheat sheet' to understand how a 'lambda function' works."
   ]
  },
  {
   "cell_type": "code",
   "execution_count": null,
   "metadata": {
    "ExecuteTime": {
     "end_time": "2018-09-24T21:31:27.774327Z",
     "start_time": "2018-09-24T21:31:27.770481Z"
    }
   },
   "outputs": [],
   "source": [
    "df['height (m)'] = df['height (m)'].apply(.............)"
   ]
  },
  {
   "cell_type": "markdown",
   "metadata": {},
   "source": [
    "Create a new column in the dataframe called 'BMI' which is calculated by dividing the weight (in kilos) by the height (in metres) squared."
   ]
  },
  {
   "cell_type": "markdown",
   "metadata": {},
   "source": [
    "$ BMI = \\frac{weight(kg)}{height(m)^2} $"
   ]
  },
  {
   "cell_type": "code",
   "execution_count": null,
   "metadata": {
    "ExecuteTime": {
     "end_time": "2018-09-24T21:39:56.896321Z",
     "start_time": "2018-09-24T21:39:56.892086Z"
    }
   },
   "outputs": [],
   "source": [
    "df['BMI'] = ______________"
   ]
  },
  {
   "cell_type": "markdown",
   "metadata": {},
   "source": [
    "Create a function that takes a number as an input and returns the appropriate BMI outcome:\n",
    "\n",
    "| Value | BMI classification|\n",
    "| :--- | :-- | \n",
    "| <18.5 | underweight |\n",
    "|18.5–24.9\t|normal weight|\n",
    "|25.0–29.9\t|overweight|\n",
    "|30.0–34.9\t|class I obesity|\n",
    "|35.0–39.9\t|class II obesity|\n",
    "| >=40 | class III obesity  |"
   ]
  },
  {
   "cell_type": "code",
   "execution_count": null,
   "metadata": {},
   "outputs": [],
   "source": [
    "def XXXXX():\n",
    "    temporary = None\n",
    "    result = None\n",
    "    return result "
   ]
  },
  {
   "cell_type": "markdown",
   "metadata": {},
   "source": [
    "Use the function that you created to convert the 'BMI' column from the BMI number to the BMI classification"
   ]
  },
  {
   "cell_type": "code",
   "execution_count": null,
   "metadata": {},
   "outputs": [],
   "source": [
    "df['BMI'] = ______________"
   ]
  },
  {
   "cell_type": "markdown",
   "metadata": {},
   "source": [
    "Create the new dataframe below"
   ]
  },
  {
   "cell_type": "code",
   "execution_count": null,
   "metadata": {
    "ExecuteTime": {
     "end_time": "2018-10-12T10:22:35.655425Z",
     "start_time": "2018-10-12T10:22:35.651732Z"
    }
   },
   "outputs": [],
   "source": [
    "people_info = pd.DataFrame({'Name': ['John', 'Kate', 'Lewis', 'Mike', 'Charlotte', 'Carol', 'Neil', 'Johnny', 'Lucy', 'Ron'], \n",
    "                            'Weight (kg)': [50, 60, 75, 80, 40, 90, 85, 100, 74, 51]\n",
    "                           })"
   ]
  },
  {
   "cell_type": "markdown",
   "metadata": {},
   "source": [
    "Merge the people info dataframe with the BMI dataframe to create one big dataframe.  The pandas 'merge' is like a SQL join.  Check the cheat sheet for examples."
   ]
  },
  {
   "cell_type": "code",
   "execution_count": null,
   "metadata": {},
   "outputs": [],
   "source": [
    "big_df = ______________"
   ]
  },
  {
   "cell_type": "markdown",
   "metadata": {},
   "source": [
    "What problems might you have in the future (with a larger dataset) merging on the feature that you have chosen?"
   ]
  },
  {
   "cell_type": "code",
   "execution_count": null,
   "metadata": {},
   "outputs": [],
   "source": []
  }
 ],
 "metadata": {
  "kernelspec": {
   "display_name": "Python 3",
   "language": "python",
   "name": "python3"
  },
  "language_info": {
   "codemirror_mode": {
    "name": "ipython",
    "version": 3
   },
   "file_extension": ".py",
   "mimetype": "text/x-python",
   "name": "python",
   "nbconvert_exporter": "python",
   "pygments_lexer": "ipython3",
   "version": "3.7.0"
  },
  "toc": {
   "base_numbering": 1,
   "nav_menu": {},
   "number_sections": true,
   "sideBar": true,
   "skip_h1_title": false,
   "title_cell": "Table of Contents",
   "title_sidebar": "Contents",
   "toc_cell": false,
   "toc_position": {},
   "toc_section_display": true,
   "toc_window_display": false
  }
 },
 "nbformat": 4,
 "nbformat_minor": 2
}
